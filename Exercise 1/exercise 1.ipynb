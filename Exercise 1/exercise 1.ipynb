{
 "cells": [
  {
   "cell_type": "markdown",
   "metadata": {},
   "source": [
    "# Get Station Description for DWD Climatologial Measuring Stations"
   ]
  },
  {
   "cell_type": "markdown",
   "metadata": {},
   "source": [
    "## 1. About the DWD Open Data Portal \n",
    "\n",
    "The data of the Climate Data Center (CDC) of the DWD (Deutscher Wetterdienst, German Weather Service) is provided on an **FTP server**. <br> **FTP** stands for _File Transfer Protocol_.\n",
    "\n",
    "Open the FTP link ftp://opendata.dwd.de/climate_environment/CDC/ in your browser (copy-paste) and find our how it is structured hierarchically.\n",
    "\n",
    "You can also open the link with **HTTPS** (Hypertext Transfer Protocol Secure): https://opendata.dwd.de/climate_environment/CDC/\n",
    "\n",
    "**Download and read** the document https://opendata.dwd.de/climate_environment/CDC/Readme_intro_CDC_ftp.pdf\n",
    "\n",
    "**Q1:** In which temporal resolutions are the time series provided?\n",
    "\n",
    "**Q2:** What is the difference between _historical_ and _recent_ data also with respect to quality control?\n",
    "\n",
    "**Q3:** Are all meteorological parameters provided at the same temporal resolution?\n"
   ]
  },
  {
   "cell_type": "markdown",
   "metadata": {},
   "source": [
    "## 2. Download the Station Meta Data \n",
    "\n",
    "We are interested in observations with following properties:\n",
    "\n",
    "1. The observations are taken in Germany.\n",
    "1. It is precipitation data.\n",
    "1. The temporal resolution is hourly.\n",
    "1. Use recent data, not historical.\n",
    "\n",
    "\n",
    "Download the corresonding station meta data file (description) from the FTP server. The file you have to download is named `RR_Stundenwerte_Beschreibung_Stationen.txt`. The elements of the file name denote:\n",
    "\n",
    "* RR, Regenrate: Precipitation Rate \n",
    "* Jahreswerte:   Annual Values, \n",
    "* Beschreibung:  Description, \n",
    "* Stationen:     Stations\n",
    "\n",
    "**Q1:** Under with path (directory, folder) on the FTP server do you find the file?\n",
    "\n",
    "**Q2:** The Python FTP client we use is provided through the library _ftplib_: <br>\n",
    "https://pythonprogramming.net/ftp-transfers-python-ftplib/ <br>\n",
    "How to you use it?\n",
    "\n",
    "**Q3:** Look at the code below. In which folder is the data stored locally? What is are relative and absolute paths?"
   ]
  },
  {
   "cell_type": "markdown",
   "metadata": {},
   "source": [
    "## FTP Connection\n",
    "\n",
    "This connection is used to download the metadata text file `RR_Stundenwerte_Beschreibung_Stationen.txt` listing the meteorological stations providing hourly precipitation measurements. The data in the text file is fixed width formatted, i.e. data is nicely arranged in columns. Several of the stations have been already abandoned. Whether the precipitation measurements are still active can be concluded from the column `bis_datum`. Of course you could have downloaded this single file directly by means of your browser or an FTP client but later it becomes clear how download processes can be automized with the ftplib."
   ]
  },
  {
   "cell_type": "markdown",
   "metadata": {},
   "source": [
    "### Connection Parameters\n",
    "\n",
    "FTP servers often provide an anonymous access such that no personal login is required."
   ]
  },
  {
   "cell_type": "code",
   "execution_count": 1,
   "metadata": {},
   "outputs": [],
   "source": [
    "server = \"opendata.dwd.de\"\n",
    "user   = \"anonymous\"\n",
    "passwd = \"\""
   ]
  },
  {
   "cell_type": "markdown",
   "metadata": {},
   "source": [
    "### FTP Directory Definition and Station Description Filename Pattern"
   ]
  },
  {
   "cell_type": "code",
   "execution_count": 2,
   "metadata": {},
   "outputs": [],
   "source": [
    "# The topic of interest: recent hourly precipitation data. \n",
    "topic_dir = \"/hourly/precipitation/historical/\"\n",
    "\n",
    "# This is the search pattern common to ALL station description file names. \n",
    "station_desc_pattern = \"_Beschreibung_Stationen.txt\"\n",
    "\n",
    "# Below this directory tree node all climate data are stored.\n",
    "climate_data_dir = \"/climate_environment/CDC/observations_germany/climate/\"\n",
    "ftp_dir =  climate_data_dir + topic_dir"
   ]
  },
  {
   "cell_type": "markdown",
   "metadata": {},
   "source": [
    "### Local Directories"
   ]
  },
  {
   "cell_type": "code",
   "execution_count": 3,
   "metadata": {},
   "outputs": [],
   "source": [
    "# To keep the folders tidy the subdirectory tree of the FTP is replicated.\n",
    "local_ts_dir = \"data/DWD/\" + topic_dir # TS stands for \"time series\". Better add a trailing \"/\" to make life easier ... \n",
    "local_station_dir = local_ts_dir # station info directory."
   ]
  },
  {
   "cell_type": "code",
   "execution_count": 4,
   "metadata": {},
   "outputs": [],
   "source": [
    "# Directory trees are created. Ignore errors if they already exist.\n",
    "import os\n",
    "os.makedirs(local_ts_dir,exist_ok = True) # it does not complain if the dir already exists.\n",
    "os.makedirs(local_station_dir,exist_ok = True) # it does not complain if the dir already exists."
   ]
  },
  {
   "cell_type": "markdown",
   "metadata": {},
   "source": [
    "### FTP Connect"
   ]
  },
  {
   "cell_type": "code",
   "execution_count": 5,
   "metadata": {},
   "outputs": [
    {
     "name": "stdout",
     "output_type": "stream",
     "text": [
      "230 Login successful.\n"
     ]
    }
   ],
   "source": [
    "# Open the FTP session. Log in. If the connection idles for too long it will time out.\n",
    "import ftplib\n",
    "ftp = ftplib.FTP(server)\n",
    "res = ftp.login(user=user, passwd = passwd)\n",
    "print(res)"
   ]
  },
  {
   "cell_type": "code",
   "execution_count": 6,
   "metadata": {},
   "outputs": [],
   "source": [
    "# Just check, whether the connection is still open (not having reached a timeout yes)\n",
    "ret = ftp.cwd(\".\")"
   ]
  },
  {
   "cell_type": "code",
   "execution_count": 7,
   "metadata": {},
   "outputs": [],
   "source": [
    "# How to log out.\n",
    "#ftp.quit()"
   ]
  },
  {
   "cell_type": "markdown",
   "metadata": {},
   "source": [
    "### FTP Grab File Function"
   ]
  },
  {
   "cell_type": "code",
   "execution_count": 8,
   "metadata": {},
   "outputs": [],
   "source": [
    "def grabFile(ftpfullname,localfullname):\n",
    "    try:\n",
    "        ret = ftp.cwd(\".\") # A dummy action to check the connection and to provoke an exception if necessary.\n",
    "        localfile = open(localfullname, 'wb')\n",
    "        ftp.retrbinary('RETR ' + ftpfullname, localfile.write, 1024)\n",
    "        localfile.close()\n",
    "    \n",
    "    except ftplib.error_perm:\n",
    "        print(\"FTP ERROR. Operation not permitted. File not found?\")\n",
    "\n",
    "    except ftplib.error_temp:\n",
    "        print(\"FTP ERROR. Timeout.\")\n",
    "\n",
    "    except ConnectionAbortedError:\n",
    "        print(\"FTP ERROR. Connection aborted.\")\n",
    "\n"
   ]
  },
  {
   "cell_type": "markdown",
   "metadata": {},
   "source": [
    "### Generate Pandas Dataframe from FTP Directory Listing"
   ]
  },
  {
   "cell_type": "code",
   "execution_count": 9,
   "metadata": {},
   "outputs": [],
   "source": [
    "import pandas as pd\n",
    "import os\n",
    "\n",
    "# generate a pandas dataframe from a FTP directory listing. \n",
    "def gen_df_from_ftp_dir_listing(ftp, ftpdir):\n",
    "    lines = []\n",
    "    flist = []\n",
    "    try:\n",
    "        # issue the command LIST in the FTP connection \n",
    "        res = ftp.retrlines(\"LIST \"+ftpdir, lines.append)\n",
    "    except:\n",
    "        print(\"Error: ftp.retrlines() failed. ftp timeout? Reconnect!\")\n",
    "        return\n",
    "        \n",
    "    if len(lines) == 0:\n",
    "        print(\"Error: ftp dir is empty\")\n",
    "        return\n",
    "    \n",
    "    for line in lines:\n",
    "#        print(line)\n",
    "        [ftype, fsize, fname] = [line[0:1], int(line[31:42]), line[56:]]\n",
    "        \n",
    "        fext = os.path.splitext(fname)[-1]\n",
    "        \n",
    "        if fext == \".zip\":\n",
    "            station_id = int(fname.split(\"_\")[2])\n",
    "        else:\n",
    "            station_id = -1 \n",
    "        \n",
    "        flist.append([station_id, fname, fext, fsize, ftype])\n",
    "        \n",
    "        \n",
    "\n",
    "    df_ftpdir = pd.DataFrame(flist,columns=[\"station_id\", \"name\", \"ext\", \"size\", \"type\"])\n",
    "    return(df_ftpdir)"
   ]
  },
  {
   "cell_type": "code",
   "execution_count": 10,
   "metadata": {},
   "outputs": [],
   "source": [
    "# Generate a pandas dataframe from the FTP directory listing \n",
    "df_ftpdir = gen_df_from_ftp_dir_listing(ftp, ftp_dir)"
   ]
  },
  {
   "cell_type": "markdown",
   "metadata": {},
   "source": [
    "Read the following output carefully. <br>\n",
    "Q: What does `station_id = -1` mean? <br>\n",
    "Q: What does the field `ext` mean? <br>\n",
    "Q: What is the name of the file describing the stations, i.e. lists the stations with their names, coordinates, and other attributes? "
   ]
  },
  {
   "cell_type": "code",
   "execution_count": 11,
   "metadata": {},
   "outputs": [
    {
     "data": {
      "text/html": [
       "<div>\n",
       "<style scoped>\n",
       "    .dataframe tbody tr th:only-of-type {\n",
       "        vertical-align: middle;\n",
       "    }\n",
       "\n",
       "    .dataframe tbody tr th {\n",
       "        vertical-align: top;\n",
       "    }\n",
       "\n",
       "    .dataframe thead th {\n",
       "        text-align: right;\n",
       "    }\n",
       "</style>\n",
       "<table border=\"1\" class=\"dataframe\">\n",
       "  <thead>\n",
       "    <tr style=\"text-align: right;\">\n",
       "      <th></th>\n",
       "      <th>station_id</th>\n",
       "      <th>name</th>\n",
       "      <th>ext</th>\n",
       "      <th>size</th>\n",
       "      <th>type</th>\n",
       "    </tr>\n",
       "  </thead>\n",
       "  <tbody>\n",
       "    <tr>\n",
       "      <th>0</th>\n",
       "      <td>-1</td>\n",
       "      <td>BESCHREIBUNG_obsgermany_climate_hourly_precipi...</td>\n",
       "      <td>.pdf</td>\n",
       "      <td>166317</td>\n",
       "      <td>-</td>\n",
       "    </tr>\n",
       "    <tr>\n",
       "      <th>1</th>\n",
       "      <td>-1</td>\n",
       "      <td>DESCRIPTION_obsgermany_climate_hourly_precipit...</td>\n",
       "      <td>.pdf</td>\n",
       "      <td>161348</td>\n",
       "      <td>-</td>\n",
       "    </tr>\n",
       "    <tr>\n",
       "      <th>2</th>\n",
       "      <td>-1</td>\n",
       "      <td>RR_Stundenwerte_Beschreibung_Stationen.txt</td>\n",
       "      <td>.txt</td>\n",
       "      <td>303009</td>\n",
       "      <td>-</td>\n",
       "    </tr>\n",
       "    <tr>\n",
       "      <th>3</th>\n",
       "      <td>3</td>\n",
       "      <td>stundenwerte_RR_00003_19950901_20110401_hist.zip</td>\n",
       "      <td>.zip</td>\n",
       "      <td>419296</td>\n",
       "      <td>-</td>\n",
       "    </tr>\n",
       "    <tr>\n",
       "      <th>4</th>\n",
       "      <td>20</td>\n",
       "      <td>stundenwerte_RR_00020_20040814_20201231_hist.zip</td>\n",
       "      <td>.zip</td>\n",
       "      <td>432124</td>\n",
       "      <td>-</td>\n",
       "    </tr>\n",
       "    <tr>\n",
       "      <th>5</th>\n",
       "      <td>44</td>\n",
       "      <td>stundenwerte_RR_00044_20070401_20201231_hist.zip</td>\n",
       "      <td>.zip</td>\n",
       "      <td>354983</td>\n",
       "      <td>-</td>\n",
       "    </tr>\n",
       "    <tr>\n",
       "      <th>6</th>\n",
       "      <td>53</td>\n",
       "      <td>stundenwerte_RR_00053_20051001_20201231_hist.zip</td>\n",
       "      <td>.zip</td>\n",
       "      <td>385830</td>\n",
       "      <td>-</td>\n",
       "    </tr>\n",
       "    <tr>\n",
       "      <th>7</th>\n",
       "      <td>71</td>\n",
       "      <td>stundenwerte_RR_00071_20041022_20200101_hist.zip</td>\n",
       "      <td>.zip</td>\n",
       "      <td>402875</td>\n",
       "      <td>-</td>\n",
       "    </tr>\n",
       "    <tr>\n",
       "      <th>8</th>\n",
       "      <td>73</td>\n",
       "      <td>stundenwerte_RR_00073_20070401_20201231_hist.zip</td>\n",
       "      <td>.zip</td>\n",
       "      <td>357529</td>\n",
       "      <td>-</td>\n",
       "    </tr>\n",
       "    <tr>\n",
       "      <th>9</th>\n",
       "      <td>78</td>\n",
       "      <td>stundenwerte_RR_00078_20041101_20201231_hist.zip</td>\n",
       "      <td>.zip</td>\n",
       "      <td>421522</td>\n",
       "      <td>-</td>\n",
       "    </tr>\n",
       "  </tbody>\n",
       "</table>\n",
       "</div>"
      ],
      "text/plain": [
       "   station_id                                               name   ext  \\\n",
       "0          -1  BESCHREIBUNG_obsgermany_climate_hourly_precipi...  .pdf   \n",
       "1          -1  DESCRIPTION_obsgermany_climate_hourly_precipit...  .pdf   \n",
       "2          -1         RR_Stundenwerte_Beschreibung_Stationen.txt  .txt   \n",
       "3           3   stundenwerte_RR_00003_19950901_20110401_hist.zip  .zip   \n",
       "4          20   stundenwerte_RR_00020_20040814_20201231_hist.zip  .zip   \n",
       "5          44   stundenwerte_RR_00044_20070401_20201231_hist.zip  .zip   \n",
       "6          53   stundenwerte_RR_00053_20051001_20201231_hist.zip  .zip   \n",
       "7          71   stundenwerte_RR_00071_20041022_20200101_hist.zip  .zip   \n",
       "8          73   stundenwerte_RR_00073_20070401_20201231_hist.zip  .zip   \n",
       "9          78   stundenwerte_RR_00078_20041101_20201231_hist.zip  .zip   \n",
       "\n",
       "     size type  \n",
       "0  166317    -  \n",
       "1  161348    -  \n",
       "2  303009    -  \n",
       "3  419296    -  \n",
       "4  432124    -  \n",
       "5  354983    -  \n",
       "6  385830    -  \n",
       "7  402875    -  \n",
       "8  357529    -  \n",
       "9  421522    -  "
      ]
     },
     "execution_count": 11,
     "metadata": {},
     "output_type": "execute_result"
    }
   ],
   "source": [
    "df_ftpdir.head(10)"
   ]
  },
  {
   "cell_type": "markdown",
   "metadata": {},
   "source": [
    "### Dataframe with TS Zip Files\n",
    "\n",
    "Create a dataframe with the names of the zip files only. These zip archives contain the real measurement data. The measured variable (precipitation, temoperature, etc.) is time dependent. A sequence of data over time is called **time series**."
   ]
  },
  {
   "cell_type": "code",
   "execution_count": 12,
   "metadata": {},
   "outputs": [
    {
     "data": {
      "text/html": [
       "<div>\n",
       "<style scoped>\n",
       "    .dataframe tbody tr th:only-of-type {\n",
       "        vertical-align: middle;\n",
       "    }\n",
       "\n",
       "    .dataframe tbody tr th {\n",
       "        vertical-align: top;\n",
       "    }\n",
       "\n",
       "    .dataframe thead th {\n",
       "        text-align: right;\n",
       "    }\n",
       "</style>\n",
       "<table border=\"1\" class=\"dataframe\">\n",
       "  <thead>\n",
       "    <tr style=\"text-align: right;\">\n",
       "      <th></th>\n",
       "      <th>name</th>\n",
       "      <th>ext</th>\n",
       "      <th>size</th>\n",
       "      <th>type</th>\n",
       "    </tr>\n",
       "    <tr>\n",
       "      <th>station_id</th>\n",
       "      <th></th>\n",
       "      <th></th>\n",
       "      <th></th>\n",
       "      <th></th>\n",
       "    </tr>\n",
       "  </thead>\n",
       "  <tbody>\n",
       "    <tr>\n",
       "      <th>3</th>\n",
       "      <td>stundenwerte_RR_00003_19950901_20110401_hist.zip</td>\n",
       "      <td>.zip</td>\n",
       "      <td>419296</td>\n",
       "      <td>-</td>\n",
       "    </tr>\n",
       "    <tr>\n",
       "      <th>20</th>\n",
       "      <td>stundenwerte_RR_00020_20040814_20201231_hist.zip</td>\n",
       "      <td>.zip</td>\n",
       "      <td>432124</td>\n",
       "      <td>-</td>\n",
       "    </tr>\n",
       "    <tr>\n",
       "      <th>44</th>\n",
       "      <td>stundenwerte_RR_00044_20070401_20201231_hist.zip</td>\n",
       "      <td>.zip</td>\n",
       "      <td>354983</td>\n",
       "      <td>-</td>\n",
       "    </tr>\n",
       "    <tr>\n",
       "      <th>53</th>\n",
       "      <td>stundenwerte_RR_00053_20051001_20201231_hist.zip</td>\n",
       "      <td>.zip</td>\n",
       "      <td>385830</td>\n",
       "      <td>-</td>\n",
       "    </tr>\n",
       "    <tr>\n",
       "      <th>71</th>\n",
       "      <td>stundenwerte_RR_00071_20041022_20200101_hist.zip</td>\n",
       "      <td>.zip</td>\n",
       "      <td>402875</td>\n",
       "      <td>-</td>\n",
       "    </tr>\n",
       "    <tr>\n",
       "      <th>73</th>\n",
       "      <td>stundenwerte_RR_00073_20070401_20201231_hist.zip</td>\n",
       "      <td>.zip</td>\n",
       "      <td>357529</td>\n",
       "      <td>-</td>\n",
       "    </tr>\n",
       "    <tr>\n",
       "      <th>78</th>\n",
       "      <td>stundenwerte_RR_00078_20041101_20201231_hist.zip</td>\n",
       "      <td>.zip</td>\n",
       "      <td>421522</td>\n",
       "      <td>-</td>\n",
       "    </tr>\n",
       "    <tr>\n",
       "      <th>87</th>\n",
       "      <td>stundenwerte_RR_00087_20050201_20201231_hist.zip</td>\n",
       "      <td>.zip</td>\n",
       "      <td>403610</td>\n",
       "      <td>-</td>\n",
       "    </tr>\n",
       "    <tr>\n",
       "      <th>91</th>\n",
       "      <td>stundenwerte_RR_00091_20040901_20201231_hist.zip</td>\n",
       "      <td>.zip</td>\n",
       "      <td>419182</td>\n",
       "      <td>-</td>\n",
       "    </tr>\n",
       "    <tr>\n",
       "      <th>96</th>\n",
       "      <td>stundenwerte_RR_00096_20190409_20201231_hist.zip</td>\n",
       "      <td>.zip</td>\n",
       "      <td>53260</td>\n",
       "      <td>-</td>\n",
       "    </tr>\n",
       "  </tbody>\n",
       "</table>\n",
       "</div>"
      ],
      "text/plain": [
       "                                                        name   ext    size  \\\n",
       "station_id                                                                   \n",
       "3           stundenwerte_RR_00003_19950901_20110401_hist.zip  .zip  419296   \n",
       "20          stundenwerte_RR_00020_20040814_20201231_hist.zip  .zip  432124   \n",
       "44          stundenwerte_RR_00044_20070401_20201231_hist.zip  .zip  354983   \n",
       "53          stundenwerte_RR_00053_20051001_20201231_hist.zip  .zip  385830   \n",
       "71          stundenwerte_RR_00071_20041022_20200101_hist.zip  .zip  402875   \n",
       "73          stundenwerte_RR_00073_20070401_20201231_hist.zip  .zip  357529   \n",
       "78          stundenwerte_RR_00078_20041101_20201231_hist.zip  .zip  421522   \n",
       "87          stundenwerte_RR_00087_20050201_20201231_hist.zip  .zip  403610   \n",
       "91          stundenwerte_RR_00091_20040901_20201231_hist.zip  .zip  419182   \n",
       "96          stundenwerte_RR_00096_20190409_20201231_hist.zip  .zip   53260   \n",
       "\n",
       "           type  \n",
       "station_id       \n",
       "3             -  \n",
       "20            -  \n",
       "44            -  \n",
       "53            -  \n",
       "71            -  \n",
       "73            -  \n",
       "78            -  \n",
       "87            -  \n",
       "91            -  \n",
       "96            -  "
      ]
     },
     "execution_count": 12,
     "metadata": {},
     "output_type": "execute_result"
    }
   ],
   "source": [
    "#df_ftpdir[\"ext\"]==\".zip\"\n",
    "df_zips = df_ftpdir[df_ftpdir[\"ext\"]==\".zip\"]\n",
    "df_zips.set_index(\"station_id\", inplace = True)\n",
    "df_zips.head(10)"
   ]
  },
  {
   "cell_type": "markdown",
   "metadata": {},
   "source": [
    "### Download the Station Description File"
   ]
  },
  {
   "cell_type": "code",
   "execution_count": 13,
   "metadata": {},
   "outputs": [
    {
     "name": "stdout",
     "output_type": "stream",
     "text": [
      "RR_Stundenwerte_Beschreibung_Stationen.txt\n"
     ]
    }
   ],
   "source": [
    "station_fname = df_ftpdir[df_ftpdir['name'].str.contains(station_desc_pattern)][\"name\"].values[0]\n",
    "print(station_fname)\n",
    "\n",
    "# ALternative\n",
    "#station_fname2 = df_ftpdir[df_ftpdir[\"name\"].str.match(\"^.*Beschreibung_Stationen.*txt$\")][\"name\"].values[0]\n",
    "#print(station_fname2)"
   ]
  },
  {
   "cell_type": "code",
   "execution_count": 14,
   "metadata": {},
   "outputs": [
    {
     "name": "stdout",
     "output_type": "stream",
     "text": [
      "grab file: RR_Stundenwerte_Beschreibung_Stationen.txt\n",
      "from ftp dir: /climate_environment/CDC/observations_germany/climate//hourly/precipitation/historical/\n"
     ]
    }
   ],
   "source": [
    "print(\"grab file: \" + station_fname + \"\\nfrom ftp dir: \" + ftp_dir)\n",
    "grabFile(ftp_dir + station_fname, local_station_dir + station_fname)"
   ]
  },
  {
   "cell_type": "code",
   "execution_count": 15,
   "metadata": {},
   "outputs": [],
   "source": [
    "# extract column names. They are in German (de)\n",
    "# We have to use codecs because of difficulties with character encoding (German Umlaute)\n",
    "import codecs\n",
    "\n",
    "def station_desc_txt_to_csv(txtfile, csvfile):\n",
    "    file = codecs.open(txtfile,\"r\", encoding=\"unicode-escape\")\n",
    "    r = file.readline()\n",
    "    file.close()\n",
    "    colnames_de = r.split()\n",
    "    colnames_de\n",
    "    \n",
    "    # German-English dictionary\n",
    "    translate = \\\n",
    "    {'Stations_id':'station_id',\n",
    "     'von_datum':'date_from',\n",
    "     'bis_datum':'date_to',\n",
    "     'Stationshoehe':'altitude',\n",
    "     'geoBreite': 'latitude',\n",
    "     'geoLaenge': 'longitude',\n",
    "     'Stationsname':'name',\n",
    "     'Bundesland':'state'}\n",
    "    \n",
    "    colnames_en = [translate[h] for h in colnames_de]\n",
    "    \n",
    "    # Skip the first two rows and set the column names.\n",
    "    df = pd.read_fwf(txtfile,skiprows=2,names=colnames_en, parse_dates=[\"date_from\",\"date_to\"],index_col = 0)\n",
    "    \n",
    "    # write CSV file with field separator semicolon\n",
    "    df.to_csv(csvfile, sep = \";\")\n",
    "    return(df)"
   ]
  },
  {
   "cell_type": "code",
   "execution_count": 16,
   "metadata": {},
   "outputs": [
    {
     "data": {
      "text/html": [
       "<div>\n",
       "<style scoped>\n",
       "    .dataframe tbody tr th:only-of-type {\n",
       "        vertical-align: middle;\n",
       "    }\n",
       "\n",
       "    .dataframe tbody tr th {\n",
       "        vertical-align: top;\n",
       "    }\n",
       "\n",
       "    .dataframe thead th {\n",
       "        text-align: right;\n",
       "    }\n",
       "</style>\n",
       "<table border=\"1\" class=\"dataframe\">\n",
       "  <thead>\n",
       "    <tr style=\"text-align: right;\">\n",
       "      <th></th>\n",
       "      <th>date_from</th>\n",
       "      <th>date_to</th>\n",
       "      <th>altitude</th>\n",
       "      <th>latitude</th>\n",
       "      <th>longitude</th>\n",
       "      <th>name</th>\n",
       "      <th>state</th>\n",
       "    </tr>\n",
       "    <tr>\n",
       "      <th>station_id</th>\n",
       "      <th></th>\n",
       "      <th></th>\n",
       "      <th></th>\n",
       "      <th></th>\n",
       "      <th></th>\n",
       "      <th></th>\n",
       "      <th></th>\n",
       "    </tr>\n",
       "  </thead>\n",
       "  <tbody>\n",
       "    <tr>\n",
       "      <th>3</th>\n",
       "      <td>1995-09-01</td>\n",
       "      <td>2011-04-01</td>\n",
       "      <td>202</td>\n",
       "      <td>50.7827</td>\n",
       "      <td>6.0941</td>\n",
       "      <td>Aachen</td>\n",
       "      <td>Nordrhein-Westfalen</td>\n",
       "    </tr>\n",
       "    <tr>\n",
       "      <th>20</th>\n",
       "      <td>2004-08-14</td>\n",
       "      <td>2022-03-02</td>\n",
       "      <td>432</td>\n",
       "      <td>48.9219</td>\n",
       "      <td>9.9129</td>\n",
       "      <td>Abtsgm�nd-Untergr�ningen</td>\n",
       "      <td>Baden-W�rttemberg</td>\n",
       "    </tr>\n",
       "    <tr>\n",
       "      <th>29</th>\n",
       "      <td>2006-01-10</td>\n",
       "      <td>2022-03-02</td>\n",
       "      <td>260</td>\n",
       "      <td>49.7175</td>\n",
       "      <td>10.9101</td>\n",
       "      <td>Adelsdorf (Kl�ranlage)</td>\n",
       "      <td>Bayern</td>\n",
       "    </tr>\n",
       "    <tr>\n",
       "      <th>44</th>\n",
       "      <td>2007-04-01</td>\n",
       "      <td>2022-03-02</td>\n",
       "      <td>44</td>\n",
       "      <td>52.9336</td>\n",
       "      <td>8.2370</td>\n",
       "      <td>Gro�enkneten</td>\n",
       "      <td>Niedersachsen</td>\n",
       "    </tr>\n",
       "    <tr>\n",
       "      <th>46</th>\n",
       "      <td>2006-01-03</td>\n",
       "      <td>2022-03-02</td>\n",
       "      <td>325</td>\n",
       "      <td>48.9450</td>\n",
       "      <td>12.4639</td>\n",
       "      <td>Aholfing</td>\n",
       "      <td>Bayern</td>\n",
       "    </tr>\n",
       "  </tbody>\n",
       "</table>\n",
       "</div>"
      ],
      "text/plain": [
       "            date_from    date_to  altitude  latitude  longitude  \\\n",
       "station_id                                                        \n",
       "3          1995-09-01 2011-04-01       202   50.7827     6.0941   \n",
       "20         2004-08-14 2022-03-02       432   48.9219     9.9129   \n",
       "29         2006-01-10 2022-03-02       260   49.7175    10.9101   \n",
       "44         2007-04-01 2022-03-02        44   52.9336     8.2370   \n",
       "46         2006-01-03 2022-03-02       325   48.9450    12.4639   \n",
       "\n",
       "                                name                state  \n",
       "station_id                                                 \n",
       "3                             Aachen  Nordrhein-Westfalen  \n",
       "20          Abtsgm�nd-Untergr�ningen    Baden-W�rttemberg  \n",
       "29            Adelsdorf (Kl�ranlage)               Bayern  \n",
       "44                      Gro�enkneten        Niedersachsen  \n",
       "46                          Aholfing               Bayern  "
      ]
     },
     "execution_count": 16,
     "metadata": {},
     "output_type": "execute_result"
    }
   ],
   "source": [
    "basename = os.path.splitext(station_fname)[0]\n",
    "df_stations = station_desc_txt_to_csv(local_station_dir + station_fname, local_station_dir + basename + \".csv\")\n",
    "df_stations.head()"
   ]
  },
  {
   "cell_type": "markdown",
   "metadata": {},
   "source": [
    "### Select Stations Located in NRW from Station Description Dataframe"
   ]
  },
  {
   "cell_type": "code",
   "execution_count": 17,
   "metadata": {},
   "outputs": [
    {
     "data": {
      "text/plain": [
       "Int64Index([    3,   216,   326,   389,   390,   554,   555,   599,   603,\n",
       "              613,\n",
       "            ...\n",
       "            14179, 14180, 14181, 14182, 14183, 14184, 14185, 14186, 14187,\n",
       "            15000],\n",
       "           dtype='int64', name='station_id', length=158)"
      ]
     },
     "execution_count": 17,
     "metadata": {},
     "output_type": "execute_result"
    }
   ],
   "source": [
    "station_ids_selected = df_stations[df_stations['state'].str.contains(\"Nordrhein\")].index\n",
    "station_ids_selected"
   ]
  },
  {
   "cell_type": "markdown",
   "metadata": {},
   "source": [
    "# HOMEWORK: Create a Map in QGIS!\n",
    "\n",
    "The **pdf file in the notebook folder** shows the final result you have to produce yourself.\n",
    "\n",
    "Follow the tutorial http://www.qgistutorials.com/en/docs/3/making_a_map.html\n",
    "\n",
    "In class we created a vector data layer (point shape file) with the coordinates of the DWD CDC climate stations from a CSV file we generated from the meta data file downloaded from the open data DWD FTP archive (hourly values, precipitation).\n",
    "\n",
    "Create a map of the DWD climate stations located in NRW. Use a shapefile of the NRW administrative boundaries.\n",
    "\n",
    "Use the EPSG:28532 coordinate reference system (projection). We will learn later what it is.\n",
    "\n",
    "\n",
    "The borders of the federal state NRW can be found in a zip archieve containing the official administrative boundaries of NRW.\n",
    "\n",
    "Download the archieve **dvg1_EPSG25832_Shape.zip** from here: https://www.opengeodata.nrw.de/produkte/geobasis/vkg/dvg/dvg1/ and add the right shape file (.shp) as a vector layer to your QGIS project.\n",
    "\n"
   ]
  },
  {
   "cell_type": "code",
   "execution_count": null,
   "metadata": {},
   "outputs": [],
   "source": []
  }
 ],
 "metadata": {
  "kernelspec": {
   "display_name": "Python 3",
   "language": "python",
   "name": "python3"
  },
  "language_info": {
   "codemirror_mode": {
    "name": "ipython",
    "version": 3
   },
   "file_extension": ".py",
   "mimetype": "text/x-python",
   "name": "python",
   "nbconvert_exporter": "python",
   "pygments_lexer": "ipython3",
   "version": "3.8.8"
  }
 },
 "nbformat": 4,
 "nbformat_minor": 4
}
